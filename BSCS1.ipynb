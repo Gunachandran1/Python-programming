{
 "cells": [
  {
   "cell_type": "code",
   "execution_count": 1,
   "id": "a8229fd2-6d2c-4060-94e3-da22a966927e",
   "metadata": {},
   "outputs": [
    {
     "name": "stdout",
     "output_type": "stream",
     "text": [
      "Welcome to Assignment-1\n"
     ]
    }
   ],
   "source": [
    "print(\"Welcome to Assignment-1\")"
   ]
  },
  {
   "cell_type": "code",
   "execution_count": 1,
   "id": "dcc7e7d9-58ff-4da3-a8e0-b6bfe1517215",
   "metadata": {},
   "outputs": [
    {
     "name": "stdout",
     "output_type": "stream",
     "text": [
      "Num1 =  10\n",
      "Num2 =  10\n",
      "Add =  40\n"
     ]
    }
   ],
   "source": [
    "Num1=10\n",
    "Num2=30\n",
    "Add=Num1+Num2\n",
    "print(\"Num1 = \",Num1)\n",
    "print(\"Num2 = \",Num1)\n",
    "print(\"Add = \",Add)"
   ]
  },
  {
   "cell_type": "code",
   "execution_count": 2,
   "id": "129369ae-a02b-4ee3-b4ad-6bc3df9dfefb",
   "metadata": {},
   "outputs": [
    {
     "name": "stdout",
     "output_type": "stream",
     "text": [
      "Enter the BMI Index :  35\n"
     ]
    },
    {
     "name": "stdout",
     "output_type": "stream",
     "text": [
      "Obese Class II\n"
     ]
    }
   ],
   "source": [
    "## BMI calculation \n",
    "bmi = int(input(\"Enter the BMI Index : \"))\n",
    "if(bmi>0):\n",
    "    if(bmi<16):\n",
    "        print(\"Severe Thinness\")\n",
    "    elif(bmi<17):\n",
    "        print(\"Moderate Thinness\")\n",
    "    elif(bmi<18.5):\n",
    "        print(\"Mild Thinness\")\n",
    "    elif(bmi<25):\n",
    "        print(\"Normal\")\n",
    "    elif(bmi<30):\n",
    "        print(\"Overweight\")\n",
    "    elif(bmi<35):\n",
    "        print(\"Obese Class I\")\n",
    "    elif(bmi<40):\n",
    "        print(\"Obese Class II\")\n",
    "    else:\n",
    "        print(\"Obese Class III\")\n",
    "else:\n",
    "    print(\"there is no negative BMI ...\")\n"
   ]
  },
  {
   "cell_type": "code",
   "execution_count": null,
   "id": "8490adeb-14aa-4e9e-983d-6bb1d6c9e2f3",
   "metadata": {},
   "outputs": [],
   "source": []
  },
  {
   "cell_type": "code",
   "execution_count": null,
   "id": "ebfc2e30-fe4b-49e3-9508-dc07f924a35b",
   "metadata": {},
   "outputs": [],
   "source": []
  }
 ],
 "metadata": {
  "kernelspec": {
   "display_name": "base",
   "language": "python",
   "name": "python3"
  },
  "language_info": {
   "codemirror_mode": {
    "name": "ipython",
    "version": 3
   },
   "file_extension": ".py",
   "mimetype": "text/x-python",
   "name": "python",
   "nbconvert_exporter": "python",
   "pygments_lexer": "ipython3",
   "version": "3.12.7"
  }
 },
 "nbformat": 4,
 "nbformat_minor": 5
}

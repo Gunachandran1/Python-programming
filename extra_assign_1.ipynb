{
 "cells": [
  {
   "cell_type": "code",
   "execution_count": 2,
   "metadata": {},
   "outputs": [
    {
     "name": "stdout",
     "output_type": "stream",
     "text": [
      "HOPE AI\n"
     ]
    }
   ],
   "source": [
    "print(\"HOPE AI\")"
   ]
  },
  {
   "cell_type": "code",
   "execution_count": 9,
   "metadata": {},
   "outputs": [],
   "source": [
    "inst = input(\"Enter the institute name : \")"
   ]
  },
  {
   "cell_type": "code",
   "execution_count": 10,
   "metadata": {},
   "outputs": [
    {
     "name": "stdout",
     "output_type": "stream",
     "text": [
      "HOPE AI\n"
     ]
    }
   ],
   "source": [
    "print(inst)"
   ]
  },
  {
   "cell_type": "code",
   "execution_count": 5,
   "metadata": {},
   "outputs": [],
   "source": [
    "name = input(\"Enter your name : \")\n",
    "age = int(input(\"Enter your age : \"))\n",
    "scl_name = input(\"Enter your school name : \")\n",
    "degree = input(\"Enter your degree : \")\n"
   ]
  },
  {
   "cell_type": "code",
   "execution_count": 7,
   "metadata": {},
   "outputs": [
    {
     "name": "stdout",
     "output_type": "stream",
     "text": [
      "GUNACHANDIRAN D\n",
      "20\n",
      "VIDYA MANDIR MATRIC HR SEC SCHOOL\n",
      "AI&DS\n"
     ]
    }
   ],
   "source": [
    "print(name) \n",
    "print(age)\n",
    "print(scl_name)\n",
    "print(degree)"
   ]
  },
  {
   "cell_type": "code",
   "execution_count": 26,
   "metadata": {},
   "outputs": [
    {
     "name": "stdout",
     "output_type": "stream",
     "text": [
      "add =  77\n",
      "sub =  9\n",
      "mul =  1462\n",
      "fl_div =  1\n",
      "mod =  9\n",
      "power =  34508611856016952192871159710674768120457665758914571449\n"
     ]
    }
   ],
   "source": [
    "a = 43\n",
    "b = 34\n",
    "add = a+b\n",
    "sub = a-b\n",
    "mul = a*b\n",
    "fl_div = a//b\n",
    "mod = a%b\n",
    "power = (a**b)\n",
    "\n",
    "print(\"add = \",add)\n",
    "print(\"sub = \",sub)\n",
    "print(\"mul = \",mul)\n",
    "print(\"fl_div = \",fl_div)\n",
    "print(\"mod = \",mod)\n",
    "print(\"power = \",power)"
   ]
  },
  {
   "cell_type": "code",
   "execution_count": null,
   "metadata": {},
   "outputs": [],
   "source": []
  }
 ],
 "metadata": {
  "kernelspec": {
   "display_name": "base",
   "language": "python",
   "name": "python3"
  },
  "language_info": {
   "codemirror_mode": {
    "name": "ipython",
    "version": 3
   },
   "file_extension": ".py",
   "mimetype": "text/x-python",
   "name": "python",
   "nbconvert_exporter": "python",
   "pygments_lexer": "ipython3",
   "version": "3.12.7"
  }
 },
 "nbformat": 4,
 "nbformat_minor": 2
}

{
 "cells": [
  {
   "cell_type": "code",
   "execution_count": 2,
   "metadata": {},
   "outputs": [
    {
     "name": "stdout",
     "output_type": "stream",
     "text": [
      "Sub-fields in AI are : \n",
      "Machine Learning\n",
      "Neural Networks\n",
      "Vision\n",
      "Robotics\n",
      "Speech Processing\n",
      "Natural Language Processing\n",
      "None\n"
     ]
    }
   ],
   "source": [
    "sub_fields=[\"Machine Learning\",\"Neural Networks\",\"Vision\",\"Robotics\",\"Speech Processing\",\"Natural Language Processing\"]\n",
    "def Subfields():\n",
    "        print(\"Sub-fields in AI are : \")\n",
    "        for i in range(len(sub_fields)):\n",
    "            print(sub_fields[i])\n",
    "action = Subfields()\n",
    "print(action)"
   ]
  },
  {
   "cell_type": "code",
   "execution_count": 5,
   "metadata": {},
   "outputs": [
    {
     "name": "stdout",
     "output_type": "stream",
     "text": [
      "52452 is even number\n"
     ]
    }
   ],
   "source": [
    "def OddEven():\n",
    "        num1=int(input(\"Enter the number : \"))\n",
    "        if num1%2==0:\n",
    "            return f\"{num1} is even number\"\n",
    "        else:\n",
    "            return f\"{num1} is odd number\"\n",
    "action = OddEven()\n",
    "print(action)"
   ]
  },
  {
   "cell_type": "code",
   "execution_count": 6,
   "metadata": {},
   "outputs": [
    {
     "name": "stdout",
     "output_type": "stream",
     "text": [
      "Your Gender : male \n",
      "Your age : 20 \n",
      "NOT ELIGIBLE\n"
     ]
    }
   ],
   "source": [
    "def Eligible():\n",
    "        gender=input(\"Enter your gender : \")\n",
    "        age = int(input(\"Enter your age : \"))\n",
    "        if(gender == \"MALE\" or gender == \"male\" or gender == \"M\"):\n",
    "            if(age>=21):\n",
    "                var= \"ELIGIBLE\"\n",
    "            else:\n",
    "                var= \"NOT ELIGIBLE\"\n",
    "        elif(gender == \"FEMALE\" or gender == \"female\" or gender == \"F\"):\n",
    "            if(age>=18):\n",
    "                var= \"ELIGIBLE\"\n",
    "            else:\n",
    "                var= \"NOT ELIGIBLE\"\n",
    "        else:\n",
    "            var= \"INVALID GENDER...\"   \n",
    "        return f\"Your Gender : {gender} \\nYour age : {age} \\n{var}\"\n",
    "action = Eligible()\n",
    "print(action)"
   ]
  },
  {
   "cell_type": "code",
   "execution_count": 7,
   "metadata": {},
   "outputs": [
    {
     "name": "stdout",
     "output_type": "stream",
     "text": [
      "Subject :1 = 98\n",
      "Subject :2 = 87\n",
      "Subject :3 = 95\n",
      "Subject :4 = 95\n",
      "Subject :5 = 93\n",
      "Total : 468\n",
      "Percentage : 93.59999999999999\n"
     ]
    }
   ],
   "source": [
    "def percentage():\n",
    "        limit = int(input(\"Enter total subjects : \"))\n",
    "        b=0\n",
    "        for i in  range(limit):\n",
    "            a=int(input(f\"Subject {i+1}\"))\n",
    "            print(f\"Subject :{i+1} = {a}\")\n",
    "            b+=a\n",
    "            c=b/limit\n",
    "        return f\"Total : {b}\\nPercentage : {c:.14f}\"\n",
    "action = percentage()\n",
    "print(action)"
   ]
  },
  {
   "cell_type": "code",
   "execution_count": 2,
   "metadata": {},
   "outputs": [
    {
     "name": "stdout",
     "output_type": "stream",
     "text": [
      "Height : 32\n",
      "Breadth : 34 \n",
      "Area formula : (Height*Breadth)/2\n",
      "Area of triangle is : 544.0\n",
      "Height1 : 2\n",
      "Height2 : 4\n",
      "Breadth : 4\n",
      "Perimeter formula : Height1+Height2+Breadth\n",
      "Perimeter of Triangle : 10\n"
     ]
    }
   ],
   "source": [
    "def a_o_t():\n",
    "    h=int(input(\"height : \"))\n",
    "    b=int(input(\"breadth : \"))\n",
    "    a_o_t=((h)*(b))/2\n",
    "    return f\"Height : {h}\\nBreadth : {b} \\nArea formula : (Height*Breadth)/2\\nArea of triangle is : {a_o_t}\"\n",
    "def p_o_t():\n",
    "    h=int(input(\"height1 : \"))\n",
    "    h2=int(input(\"height2 : \"))\n",
    "    b=int(input(\"breadth : \"))\n",
    "    p_o_t=h+h2+b\n",
    "    return f\"Height1 : {h}\\nHeight2 : {h2}\\nBreadth : {b}\\nPerimeter formula : Height1+Height2+Breadth\\nPerimeter of Triangle : {p_o_t}\"\n",
    "action1=a_o_t()\n",
    "action2=p_o_t()\n",
    "print(action1)\n",
    "print(action2)\n",
    "\n"
   ]
  }
 ],
 "metadata": {
  "kernelspec": {
   "display_name": "base",
   "language": "python",
   "name": "python3"
  },
  "language_info": {
   "codemirror_mode": {
    "name": "ipython",
    "version": 3
   },
   "file_extension": ".py",
   "mimetype": "text/x-python",
   "name": "python",
   "nbconvert_exporter": "python",
   "pygments_lexer": "ipython3",
   "version": "3.12.7"
  }
 },
 "nbformat": 4,
 "nbformat_minor": 2
}

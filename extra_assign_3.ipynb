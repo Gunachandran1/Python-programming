{
 "cells": [
  {
   "cell_type": "code",
   "execution_count": 1,
   "metadata": {},
   "outputs": [
    {
     "name": "stdout",
     "output_type": "stream",
     "text": [
      "Value :  10\n",
      "Correct\n"
     ]
    }
   ],
   "source": [
    "i = int(input(\"Enter the integer : \"))\n",
    "if i == 10:\n",
    "    print(\"Value : \",i)\n",
    "    print(\"Correct\")"
   ]
  },
  {
   "cell_type": "code",
   "execution_count": 3,
   "metadata": {},
   "outputs": [
    {
     "name": "stdout",
     "output_type": "stream",
     "text": [
      "Your password is correct \n"
     ]
    }
   ],
   "source": [
    "passkey = input(\"Enter the password : \")\n",
    "if passkey == \"HOPE@123\":\n",
    "    print(\"Your password is correct \")\n",
    "else : \n",
    "    print(\"Incorrect password...\")"
   ]
  },
  {
   "cell_type": "code",
   "execution_count": 4,
   "metadata": {},
   "outputs": [
    {
     "name": "stdout",
     "output_type": "stream",
     "text": [
      "Senior citizen\n"
     ]
    }
   ],
   "source": [
    "age = int(input(\"Enter the age : \"))\n",
    "if age>0 and age < 130:\n",
    "    if age<18:\n",
    "        print(\"Children\")\n",
    "    elif(age<30):\n",
    "        print(\"Adult\")\n",
    "    elif(age<45):\n",
    "        print(\"Citizen\")\n",
    "    else : \n",
    "        print(\"Senior citizen\")\n",
    "else : \n",
    "    print(\"Enter the valid age ...\")"
   ]
  },
  {
   "cell_type": "code",
   "execution_count": 9,
   "metadata": {},
   "outputs": [
    {
     "name": "stdout",
     "output_type": "stream",
     "text": [
      "the number is neutral\n"
     ]
    }
   ],
   "source": [
    "num = int(input(\"Enter any number : \"))\n",
    "if num==0 :\n",
    "    print(\"the number is neutral\")\n",
    "elif num>0:\n",
    "    print(\"the number is Positive \")\n",
    "else : \n",
    "    print(\"The number is negative\")"
   ]
  },
  {
   "cell_type": "code",
   "execution_count": 12,
   "metadata": {},
   "outputs": [
    {
     "name": "stdout",
     "output_type": "stream",
     "text": [
      "The given number is divisible by 5 \n"
     ]
    }
   ],
   "source": [
    "number = int(input(\"Enter the number : \"))\n",
    "if number%5==0:\n",
    "    print(\"The given number is divisible by 5 \")\n",
    "else :\n",
    "    print(\"The given number is not divisible by 5 \")"
   ]
  },
  {
   "cell_type": "code",
   "execution_count": null,
   "metadata": {},
   "outputs": [],
   "source": []
  }
 ],
 "metadata": {
  "kernelspec": {
   "display_name": "base",
   "language": "python",
   "name": "python3"
  },
  "language_info": {
   "codemirror_mode": {
    "name": "ipython",
    "version": 3
   },
   "file_extension": ".py",
   "mimetype": "text/x-python",
   "name": "python",
   "nbconvert_exporter": "python",
   "pygments_lexer": "ipython3",
   "version": "3.12.7"
  }
 },
 "nbformat": 4,
 "nbformat_minor": 2
}

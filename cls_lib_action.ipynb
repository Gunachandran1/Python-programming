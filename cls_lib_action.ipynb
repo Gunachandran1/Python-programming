{
 "cells": [
  {
   "cell_type": "code",
   "execution_count": 2,
   "metadata": {},
   "outputs": [
    {
     "name": "stdout",
     "output_type": "stream",
     "text": [
      "Sub-fields in AI are : \n",
      "Machine Learning\n",
      "Neural Networks\n",
      "Vision\n",
      "Robotics\n",
      "Speech Processing\n",
      "Natural Language Processing\n",
      "None\n"
     ]
    }
   ],
   "source": [
    "from cls_lib import SubfieldsInAI as subf\n",
    "print(subf.Subfields())"
   ]
  },
  {
   "cell_type": "code",
   "execution_count": 3,
   "metadata": {},
   "outputs": [
    {
     "name": "stdout",
     "output_type": "stream",
     "text": [
      "52452 is even number\n"
     ]
    }
   ],
   "source": [
    "from cls_lib import OddEven as oe\n",
    "print(oe.OddEven())"
   ]
  },
  {
   "cell_type": "code",
   "execution_count": 5,
   "metadata": {},
   "outputs": [
    {
     "name": "stdout",
     "output_type": "stream",
     "text": [
      "Your Gender : M \n",
      "Your age : 20 \n",
      "NOT ELIGIBLE\n"
     ]
    }
   ],
   "source": [
    "from cls_lib import EligibilityForMarriage as ellig\n",
    "print(ellig.Eligible())"
   ]
  },
  {
   "cell_type": "code",
   "execution_count": 6,
   "metadata": {},
   "outputs": [
    {
     "name": "stdout",
     "output_type": "stream",
     "text": [
      "Subject :1 = 97\n",
      "Subject :2 = 87\n",
      "Subject :3 = 95\n",
      "Subject :4 = 95\n",
      "Subject :5 = 93\n",
      "Total : 467\n",
      "Percentage : 93.40000000000001\n"
     ]
    }
   ],
   "source": [
    "from cls_lib import FindPercent as fp\n",
    "print(fp.percentage())\n"
   ]
  },
  {
   "cell_type": "code",
   "execution_count": 9,
   "metadata": {},
   "outputs": [
    {
     "name": "stdout",
     "output_type": "stream",
     "text": [
      "Height : 32\n",
      "Breadth : 34 \n",
      "Area formula : (Height*Breadth)/2\n",
      "Area of triangle is : 544.0\n",
      "Height1 : 2\n",
      "Height2 : 4\n",
      "Breadth : 4\n",
      "Perimeter formula : Height1+Height2+Breadth\n",
      "Perimeter of Triangle : 10\n"
     ]
    }
   ],
   "source": [
    "from cls_lib import triangle as tg\n",
    "tg.triangle()\n"
   ]
  }
 ],
 "metadata": {
  "kernelspec": {
   "display_name": "base",
   "language": "python",
   "name": "python3"
  },
  "language_info": {
   "codemirror_mode": {
    "name": "ipython",
    "version": 3
   },
   "file_extension": ".py",
   "mimetype": "text/x-python",
   "name": "python",
   "nbconvert_exporter": "python",
   "pygments_lexer": "ipython3",
   "version": "3.12.7"
  }
 },
 "nbformat": 4,
 "nbformat_minor": 2
}
